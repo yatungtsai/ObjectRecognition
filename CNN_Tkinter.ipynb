{
 "cells": [
  {
   "cell_type": "markdown",
   "metadata": {},
   "source": [
    "# 辨識系統主程式"
   ]
  },
  {
   "cell_type": "code",
   "execution_count": 1,
   "metadata": {},
   "outputs": [],
   "source": [
    "import cv2\n",
    "import numpy as np\n",
    "import tkinter as tk\n",
    "from PIL import Image, ImageTk\n",
    "from tkinter import StringVar, IntVar\n",
    "from tkinter.filedialog import askopenfilename\n",
    "window = tk.Tk()\n",
    "window.title('影像辨識期末專案')\n",
    "window.geometry('450x500')\n",
    "import os\n",
    "import tensorflow as tf\n",
    "from tensorflow import keras\n",
    "from keras.preprocessing import image as image_utils\n",
    "filename=''\n",
    "\n",
    "def OpenFile():\n",
    "    prediction_text.delete(\"1.0\",\"end\")#先把上次的辨識結果清掉\n",
    "    global filename\n",
    "    filename = askopenfilename()\n",
    "    img = cv2.imdecode(np.fromfile(filename,dtype=np.uint8), cv2.IMREAD_COLOR)\n",
    "    img = cv2.cvtColor(img, cv2.COLOR_BGR2RGB)\n",
    "    img=cv2.resize(img,(450,280), interpolation=cv2.INTER_AREA)#調成等比例縮放\n",
    "    im = Image.fromarray(img)\n",
    "    photo = ImageTk.PhotoImage(im)\n",
    "    labelimg.configure(image=photo)\n",
    "    labelimg.image = photo\n",
    "    text1.set(filename.split(\"/\")[-1])\n",
    "    \n",
    "\n",
    "def classify():\n",
    "    #預測新照片\n",
    "    model = keras.models.load_model('./model.h5')#先前訓練完並儲存下來的模型\n",
    "    label_dict= {0:\"飛機\",1:\"汽車\",2:\"鳥類\",3:\"貓\",4:\"鹿\",\n",
    "                           5:\"狗\",6:\"青蛙\",7:\"馬\",8:\"船\",9:\"卡車\"}\n",
    "\n",
    "    global filename\n",
    "    test_image = image_utils.load_img(filename, target_size=(32, 32))\n",
    "    test_image = image_utils.img_to_array(test_image)\n",
    "    test_image = np.expand_dims(test_image, axis=0) \n",
    "    result = model.predict_on_batch(test_image)\n",
    "    a=np.where(max(result)) \n",
    "    index=str(a)[8]\n",
    "    prediction_text.insert(\"end\",label_dict[int(index)])\n",
    "\n",
    "#【選擇照片】按鈕\n",
    "b2 = tk.Button(window, text='選擇照片', font=('Arial', 12), width=10, height=1, command=OpenFile)\n",
    "b2.pack(side='left')\n",
    "#【辨識】按鈕\n",
    "classify_button = tk.Button(window, text='辨識', font=('Arial', 12), width=10, height=1, command=classify)\n",
    "classify_button.pack(side='right')\n",
    "#【預測結果】文字框\n",
    "prediction_text = tk.Text(window, height=2, width=10)\n",
    "prediction_text.pack(side='bottom')\n",
    "\n",
    "text1 = StringVar()\n",
    "label1 = tk.Label(window,textvariable=text1, text='', font=('Arial', 12), width=100, height=8)\n",
    "label1.pack()\n",
    "\n",
    "labelimg = tk.Label(window, image=\"\")\n",
    "labelimg.pack()\n",
    "window.mainloop()"
   ]
  },
  {
   "cell_type": "code",
   "execution_count": null,
   "metadata": {},
   "outputs": [],
   "source": []
  }
 ],
 "metadata": {
  "kernelspec": {
   "display_name": "Python 3",
   "language": "python",
   "name": "python3"
  },
  "language_info": {
   "codemirror_mode": {
    "name": "ipython",
    "version": 3
   },
   "file_extension": ".py",
   "mimetype": "text/x-python",
   "name": "python",
   "nbconvert_exporter": "python",
   "pygments_lexer": "ipython3",
   "version": "3.8.5"
  }
 },
 "nbformat": 4,
 "nbformat_minor": 4
}
